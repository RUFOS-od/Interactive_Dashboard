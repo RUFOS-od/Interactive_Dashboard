{
 "cells": [
  {
   "cell_type": "code",
   "execution_count": null,
   "id": "baaaac88-e674-48de-b832-6191585f5339",
   "metadata": {},
   "outputs": [],
   "source": [
    "import pandas as pd\n",
    "import numpy as np\n",
    "import panel as pn\n",
    "pn.extension(\"tabulator\")\n",
    "\n",
    "\n",
    "import hvplot.pandas"
   ]
  },
  {
   "cell_type": "code",
   "execution_count": null,
   "id": "e516d212-6fc7-406a-b6df-66705567f946",
   "metadata": {},
   "outputs": [],
   "source": [
    "# cache data to improve dashboard performance\n",
    "if 'data' not in pn.state.cache.keys():\n",
    "    df = pd.read_csv(\"owid-co2-data.csv\")\n",
    "    \n",
    "    pn.state.cache['data'] = df.copy()\n",
    "    \n",
    "else: \n",
    "\n",
    "    df = pn.state.cache['data']"
   ]
  },
  {
   "cell_type": "code",
   "execution_count": null,
   "id": "79e737ec-3399-47e2-b1c2-9dfce0f8e63e",
   "metadata": {},
   "outputs": [],
   "source": [
    "df"
   ]
  },
  {
   "cell_type": "code",
   "execution_count": null,
   "id": "adcda3c4-7045-4f90-aa45-ff4440f32b6f",
   "metadata": {},
   "outputs": [],
   "source": [
    "df[df['country'] == 'North America']"
   ]
  },
  {
   "cell_type": "code",
   "execution_count": null,
   "id": "efa6213c-a5df-4cbc-aae5-78ddbddf0d5e",
   "metadata": {},
   "outputs": [],
   "source": [
    "df[df['country'] == 'World']"
   ]
  },
  {
   "cell_type": "markdown",
   "id": "7cf2d57e-c41b-4004-bfb5-e48e9225bbb6",
   "metadata": {},
   "source": [
    "(0) Some minor data preprocessing"
   ]
  },
  {
   "cell_type": "code",
   "execution_count": null,
   "id": "a3c52951-f2f5-44c5-aa4b-b7e56f453698",
   "metadata": {},
   "outputs": [],
   "source": [
    "# Fill NAs with 0s and create GDP per capita column\n",
    "df = df.fillna(0)\n",
    "df['gdp_per_capita'] = np.where(df['population']!= 0, df['gdp']/ df['population'], 0)"
   ]
  },
  {
   "cell_type": "code",
   "execution_count": null,
   "id": "0f469fc9-2858-4988-b8ac-36bb335f953f",
   "metadata": {},
   "outputs": [],
   "source": [
    "# Make DataFrame Pipeline Interactive\n",
    "idf = df.interactive()"
   ]
  },
  {
   "cell_type": "markdown",
   "id": "184aa257-8604-4ac3-8364-97b196a8e87f",
   "metadata": {},
   "source": [
    "(1) CO2 emission over time by continent"
   ]
  },
  {
   "cell_type": "code",
   "execution_count": null,
   "id": "f822ad5e-c330-4968-85ea-64cd4cb72eb7",
   "metadata": {},
   "outputs": [],
   "source": [
    "# Define Panel widgets\n",
    "year_slider = pn.widgets.IntSlider(name='Year slider', start=1750, end=2020, step=5, value=1850)\n",
    "year_slider"
   ]
  },
  {
   "cell_type": "code",
   "execution_count": null,
   "id": "cd85f41c-bcb9-41a8-aaa6-5068b7133cf6",
   "metadata": {},
   "outputs": [],
   "source": [
    "# Radio buttons for CO2 measures\n",
    "yaxis_co2 = pn.widgets.RadioButtonGroup(\n",
    "    name='Y axis', \n",
    "    options=['co2', 'co2_per_capita',],\n",
    "    button_type='success'\n",
    ")"
   ]
  },
  {
   "cell_type": "code",
   "execution_count": null,
   "id": "3d0b2c70-da86-45bd-b89c-2879677c4ba5",
   "metadata": {},
   "outputs": [],
   "source": [
    "continents = ['World', 'Asia', 'Oceania', 'Europe', 'Africa', 'North America', 'South America', 'Antarctica']\n",
    "\n",
    "co2_pipeline = (\n",
    "    idf[\n",
    "        (idf.year <= year_slider) &\n",
    "        (idf.country.isin(continents))\n",
    "    ]\n",
    "    .groupby(['country', 'year'])[yaxis_co2].mean()\n",
    "    .to_frame()\n",
    "    .reset_index()\n",
    "    .sort_values(by='year')  \n",
    "    .reset_index(drop=True)\n",
    ")"
   ]
  },
  {
   "cell_type": "code",
   "execution_count": null,
   "id": "34a4195b-59d4-47b1-928d-8cb15c28625d",
   "metadata": {},
   "outputs": [],
   "source": [
    "co2_pipeline"
   ]
  },
  {
   "cell_type": "code",
   "execution_count": null,
   "id": "e2e575a0-3237-4848-8b93-3d8136745a4a",
   "metadata": {},
   "outputs": [],
   "source": [
    "co2_plot = co2_pipeline.hvplot(x = 'year', by='country', y=yaxis_co2,line_width=2, title=\"CO2 emission by continent\")\n",
    "co2_plot"
   ]
  },
  {
   "cell_type": "markdown",
   "id": "dcd9f59e-66e4-4e57-8db8-26876ffa3dcc",
   "metadata": {},
   "source": [
    "(2) Table - CO2 emission over time by continent"
   ]
  },
  {
   "cell_type": "code",
   "execution_count": null,
   "id": "4ff1f973-3129-4c30-9433-c3bb387bc412",
   "metadata": {},
   "outputs": [],
   "source": [
    "co2_table = co2_pipeline.pipe(pn.widgets.Tabulator, pagination='remote', page_size = 10, sizing_mode='stretch_width') \n",
    "co2_table"
   ]
  },
  {
   "cell_type": "markdown",
   "id": "60dd0d20-2090-453f-8aaf-30990357ac6c",
   "metadata": {},
   "source": [
    "(3) CO2 vs GDP scatterplot"
   ]
  },
  {
   "cell_type": "code",
   "execution_count": null,
   "id": "724e5768-256e-410f-abfc-02b02f9cccbb",
   "metadata": {},
   "outputs": [],
   "source": [
    "co2_vs_gdp_scatterplot_pipeline = (\n",
    "    idf[\n",
    "        (idf.year == year_slider) &\n",
    "        (~ (idf.country.isin(continents)))\n",
    "    ]\n",
    "    .groupby(['country', 'year', 'gdp_per_capita'])['co2'].mean()\n",
    "    .to_frame()\n",
    "    .reset_index()\n",
    "    .sort_values(by='year')  \n",
    "    .reset_index(drop=True)\n",
    ")"
   ]
  },
  {
   "cell_type": "code",
   "execution_count": null,
   "id": "56f888d8-0653-4277-806e-a573b2cd42fe",
   "metadata": {},
   "outputs": [],
   "source": [
    "co2_vs_gdp_scatterplot_pipeline"
   ]
  },
  {
   "cell_type": "code",
   "execution_count": null,
   "id": "05f5ed00-284a-47c0-b5d0-95dc85b67991",
   "metadata": {},
   "outputs": [],
   "source": [
    "co2_vs_gdp_scatterplot = co2_vs_gdp_scatterplot_pipeline.hvplot(x='gdp_per_capita', \n",
    "                                                                y='co2', \n",
    "                                                                by='country', \n",
    "                                                                size=80, kind=\"scatter\", \n",
    "                                                                alpha=0.7,\n",
    "                                                                legend=False, \n",
    "                                                                height=500, \n",
    "                                                                width=500)\n",
    "co2_vs_gdp_scatterplot"
   ]
  },
  {
   "cell_type": "markdown",
   "id": "7055b866-f6b8-4a8c-8455-5f569cda56db",
   "metadata": {},
   "source": [
    "(4) Bar chart with CO2 sources by continent"
   ]
  },
  {
   "cell_type": "code",
   "execution_count": null,
   "id": "6800d623-20af-4c6f-a02c-e7f59f4b12dc",
   "metadata": {},
   "outputs": [],
   "source": [
    "yaxis_co2_source = pn.widgets.RadioButtonGroup(\n",
    "    name='Y axis', \n",
    "    options=['coal_co2', 'oil_co2', 'gas_co2'], \n",
    "    button_type='success'\n",
    ")\n",
    "\n",
    "continents_excl_world = ['Asia', 'Oceania', 'Europe', 'Africa', 'North America', 'South America', 'Antarctica']\n",
    "\n",
    "co2_source_bar_pipeline = (\n",
    "    idf[\n",
    "        (idf.year == year_slider) &\n",
    "        (idf.country.isin(continents_excl_world))\n",
    "    ]\n",
    "    .groupby(['year', 'country'])[yaxis_co2_source].sum()\n",
    "    .to_frame()\n",
    "    .reset_index()\n",
    "    .sort_values(by='year')  \n",
    "    .reset_index(drop=True)\n",
    ")"
   ]
  },
  {
   "cell_type": "code",
   "execution_count": null,
   "id": "a3feb621-74a0-4ca5-a511-a6323878a12c",
   "metadata": {},
   "outputs": [],
   "source": [
    "co2_source_bar_plot = co2_source_bar_pipeline.hvplot(kind='bar', \n",
    "                                                     x='country', \n",
    "                                                     y=yaxis_co2_source, \n",
    "                                                     title='CO2 source by continent')\n",
    "co2_source_bar_plot"
   ]
  },
  {
   "cell_type": "markdown",
   "id": "2f653965-d7ff-4c36-b9b6-597caa444f6b",
   "metadata": {},
   "source": [
    "Creating Dashboard"
   ]
  },
  {
   "cell_type": "code",
   "execution_count": null,
   "id": "0bc047b9-1e86-41cd-b0b7-26e3324a68aa",
   "metadata": {},
   "outputs": [],
   "source": [
    "#Layout using Template\n",
    "template = pn.template.FastListTemplate(\n",
    "    title='World CO2 emission dashboard', \n",
    "    sidebar=[pn.pane.Markdown(\"# CO2 Emissions and Climate Change\"), \n",
    "             pn.pane.Markdown(\"Carbon dioxide emissions are the primary driver of global climate change. It’s widely recognised that to avoid the worst impacts of climate change, the world needs to urgently reduce emissions. But, how this responsibility is shared between regions, countries, and individuals has been an endless point of contention in international discussions.\"), \n",
    "             pn.pane.JPG('la-terre-est-en-danger.jpg', sizing_mode='scale_both'),\n",
    "             pn.pane.Markdown(\"## Settings\"),   \n",
    "             year_slider],\n",
    "    main=[pn.Row(pn.Column(yaxis_co2, \n",
    "                           co2_plot.panel(width=700), margin=(0,25)), \n",
    "                 co2_table.panel(width=500)), \n",
    "          pn.Row(pn.Column(co2_vs_gdp_scatterplot.panel(width=600), margin=(0,25)), \n",
    "                 pn.Column(yaxis_co2_source, co2_source_bar_plot.panel(width=600)))],\n",
    "    accent_base_color=\"#88d8b0\",\n",
    "    header_background=\"#88d8b0\",\n",
    ")\n",
    "# template.show()\n",
    "template.servable();"
   ]
  },
  {
   "cell_type": "code",
   "execution_count": null,
   "id": "e2f277a6-67f5-4708-ae6b-43e0a9034d62",
   "metadata": {},
   "outputs": [],
   "source": []
  }
 ],
 "metadata": {
  "kernelspec": {
   "display_name": "Python 3 (ipykernel)",
   "language": "python",
   "name": "python3"
  },
  "language_info": {
   "codemirror_mode": {
    "name": "ipython",
    "version": 3
   },
   "file_extension": ".py",
   "mimetype": "text/x-python",
   "name": "python",
   "nbconvert_exporter": "python",
   "pygments_lexer": "ipython3",
   "version": "3.9.13"
  }
 },
 "nbformat": 4,
 "nbformat_minor": 5
}
